{
 "cells": [
  {
   "cell_type": "markdown",
   "metadata": {
    "collapsed": true
   },
   "source": [
    "# Assignment 2\n",
    "Let's test your knowledge!"
   ]
  },
  {
   "cell_type": "markdown",
   "metadata": {},
   "source": [
    "_____\n",
    "**Use <code>for</code>, .split(), and <code>if</code> to create a Statement that will print out words that start with 's':**"
   ]
  },
  {
   "cell_type": "code",
   "execution_count": 2,
   "metadata": {},
   "outputs": [
    {
     "name": "stdout",
     "output_type": "stream",
     "text": [
      "start\n",
      "s\n",
      "sentence\n"
     ]
    }
   ],
   "source": [
    "st = 'Print only the words that start with s in this sentence'\n"
   ]
  },
  {
   "cell_type": "code",
   "execution_count": 3,
   "metadata": {},
   "outputs": [
    {
     "name": "stdout",
     "output_type": "stream",
     "text": [
      "start\n",
      "s\n",
      "sentence\n"
     ]
    }
   ],
   "source": [
    "for i in st.split():\n",
    "    if i[0] == \"s\":\n",
    "        print(i)"
   ]
  },
  {
   "cell_type": "markdown",
   "metadata": {},
   "source": [
    "______\n",
    "**Use range() to print all the even numbers from 0 to 10.**"
   ]
  },
  {
   "cell_type": "code",
   "execution_count": 6,
   "metadata": {},
   "outputs": [
    {
     "name": "stdout",
     "output_type": "stream",
     "text": [
      "2\n",
      "4\n",
      "6\n",
      "8\n",
      "10\n"
     ]
    }
   ],
   "source": [
    "for i in range(1, 11):\n",
    "    if i % 2 == 0 :\n",
    "        print(i)\n"
   ]
  },
  {
   "cell_type": "markdown",
   "metadata": {},
   "source": [
    "___\n",
    "**Use a List Comprehension to create a list of all numbers between 1 and 50 that are divisible by 3.**"
   ]
  },
  {
   "cell_type": "code",
   "execution_count": 8,
   "metadata": {},
   "outputs": [
    {
     "data": {
      "text/plain": [
       "[3, 6, 9, 12, 15, 18, 21, 24, 27, 30, 33, 36, 39, 42, 45, 48]"
      ]
     },
     "execution_count": 8,
     "metadata": {},
     "output_type": "execute_result"
    }
   ],
   "source": [
    "X = [x for x in range(1, 51) if x % 3 == 0 ]\n",
    "X"
   ]
  },
  {
   "cell_type": "markdown",
   "metadata": {},
   "source": [
    "_____\n",
    "**Go through the string below and if the length of a word is even print \"even!\"**"
   ]
  },
  {
   "cell_type": "code",
   "execution_count": 18,
   "metadata": {},
   "outputs": [],
   "source": [
    "st = 'Print every word in this sentence that has an even number of letters'"
   ]
  },
  {
   "cell_type": "code",
   "execution_count": 19,
   "metadata": {},
   "outputs": [
    {
     "name": "stdout",
     "output_type": "stream",
     "text": [
      "word --> even\n",
      "in --> even\n",
      "this --> even\n",
      "sentence --> even\n",
      "that --> even\n",
      "an --> even\n",
      "even --> even\n",
      "number --> even\n",
      "of --> even\n"
     ]
    }
   ],
   "source": [
    "for i in st.split():\n",
    "    if len(i) % 2 == 0:\n",
    "        print(i, \"--> even\")"
   ]
  },
  {
   "cell_type": "markdown",
   "metadata": {},
   "source": [
    "____\n",
    "**Write a program that prints the integers from 1 to 100. But for multiples of three print \"Fizz\" instead of the number, and for the multiples of five print \"Buzz\". For numbers which are multiples of both three and five print \"FizzBuzz\".**"
   ]
  },
  {
   "cell_type": "code",
   "execution_count": 11,
   "metadata": {},
   "outputs": [
    {
     "name": "stdout",
     "output_type": "stream",
     "text": [
      "3 fuzz\n",
      "5 buzz\n",
      "6 fuzz\n",
      "9 fuzz\n",
      "10 buzz\n",
      "12 fuzz\n",
      "15 fuzzbuzz\n",
      "18 fuzz\n",
      "20 buzz\n",
      "21 fuzz\n",
      "24 fuzz\n",
      "25 buzz\n",
      "27 fuzz\n",
      "30 fuzzbuzz\n",
      "33 fuzz\n",
      "35 buzz\n",
      "36 fuzz\n",
      "39 fuzz\n",
      "40 buzz\n",
      "42 fuzz\n",
      "45 fuzzbuzz\n",
      "48 fuzz\n",
      "50 buzz\n",
      "51 fuzz\n",
      "54 fuzz\n",
      "55 buzz\n",
      "57 fuzz\n",
      "60 fuzzbuzz\n",
      "63 fuzz\n",
      "65 buzz\n",
      "66 fuzz\n",
      "69 fuzz\n",
      "70 buzz\n",
      "72 fuzz\n",
      "75 fuzzbuzz\n",
      "78 fuzz\n",
      "80 buzz\n",
      "81 fuzz\n",
      "84 fuzz\n",
      "85 buzz\n",
      "87 fuzz\n",
      "90 fuzzbuzz\n",
      "93 fuzz\n",
      "95 buzz\n",
      "96 fuzz\n",
      "99 fuzz\n",
      "100 buzz\n"
     ]
    }
   ],
   "source": [
    "range_= range(1,101)\n",
    "for i in range_:\n",
    "    if i % 3 == 0 and i%5 == 0:\n",
    "        print(i,\"fuzzbuzz\")\n",
    "    elif i % 3 == 0 :\n",
    "        print(i,'fuzz')\n",
    "    elif i % 5 == 0:\n",
    "        print(i, \"buzz\")\n",
    "        "
   ]
  },
  {
   "cell_type": "markdown",
   "metadata": {},
   "source": [
    "____\n",
    "**Use List Comprehension to create a list of the first letters of every word in the string below:**"
   ]
  },
  {
   "cell_type": "code",
   "execution_count": 16,
   "metadata": {},
   "outputs": [],
   "source": [
    "st = 'Create a list of the first letters of every word in this string'"
   ]
  },
  {
   "cell_type": "code",
   "execution_count": 17,
   "metadata": {},
   "outputs": [
    {
     "data": {
      "text/plain": [
       "['C', 'a', 'l', 'o', 't', 'f', 'l', 'o', 'e', 'w', 'i', 't', 's']"
      ]
     },
     "execution_count": 17,
     "metadata": {},
     "output_type": "execute_result"
    }
   ],
   "source": [
    "X= [i[0] for i in st.split()]\n",
    "\n",
    "X\n",
    "    "
   ]
  },
  {
   "cell_type": "markdown",
   "metadata": {},
   "source": [
    "### Great Job!"
   ]
  }
 ],
 "metadata": {
  "kernelspec": {
   "display_name": "Python 3.10.3 64-bit",
   "language": "python",
   "name": "python3"
  },
  "language_info": {
   "codemirror_mode": {
    "name": "ipython",
    "version": 3
   },
   "file_extension": ".py",
   "mimetype": "text/x-python",
   "name": "python",
   "nbconvert_exporter": "python",
   "pygments_lexer": "ipython3",
   "version": "3.10.3"
  },
  "vscode": {
   "interpreter": {
    "hash": "5eaad8f8cc0dfbd6c6fdba910c80578188f6072d8d0b6be482430d70d05cfcf2"
   }
  }
 },
 "nbformat": 4,
 "nbformat_minor": 1
}
