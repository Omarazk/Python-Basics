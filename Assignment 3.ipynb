{
 "cells": [
  {
   "cell_type": "markdown",
   "metadata": {},
   "source": [
    "# Assignment 3"
   ]
  },
  {
   "cell_type": "markdown",
   "metadata": {},
   "source": [
    "### Write a function to count the number 4 in a given list."
   ]
  },
  {
   "cell_type": "code",
   "execution_count": 7,
   "metadata": {
    "collapsed": true
   },
   "outputs": [
    {
     "name": "stdout",
     "output_type": "stream",
     "text": [
      "5 number of times\n"
     ]
    }
   ],
   "source": [
    "def counter(n):\n",
    "    num_ = n.count(4)\n",
    "    print(num_, \"number of times\")\n",
    "\n",
    "list_ = [4,5,6,7,8,4,4,4,3,4]\n",
    "\n",
    "counter(list_)"
   ]
  },
  {
   "cell_type": "markdown",
   "metadata": {},
   "source": [
    "### write a  function to check whether a number is divisible by another number."
   ]
  },
  {
   "cell_type": "code",
   "execution_count": 13,
   "metadata": {
    "collapsed": true
   },
   "outputs": [
    {
     "name": "stdout",
     "output_type": "stream",
     "text": [
      "not divisible\n",
      "divisible\n",
      "divisible\n"
     ]
    }
   ],
   "source": [
    "def check(n, m):\n",
    "    if n % m == 0 or m % n == 0:\n",
    "        print(\"divisible\")\n",
    "    else:\n",
    "        print(\"not divisible\")\n",
    "\n",
    "check(58, 4)\n",
    "check(20 , 5)\n",
    "check(3 , 18)"
   ]
  },
  {
   "cell_type": "markdown",
   "metadata": {},
   "source": [
    "### write a function to find the maximum and minimum numbers from a sequence of numbers."
   ]
  },
  {
   "cell_type": "code",
   "execution_count": 19,
   "metadata": {
    "collapsed": true
   },
   "outputs": [
    {
     "name": "stdout",
     "output_type": "stream",
     "text": [
      "max number of numbers 6665 min number of numbers 0\n"
     ]
    }
   ],
   "source": [
    "def finding(n):\n",
    "    max_ = max(n)\n",
    "    min_ = min(n)\n",
    "    print(f\"max number of numbers {max_} min number of numbers {min_}\")\n",
    "\n",
    "finding((42,323,4,5,1,77,6665,0))"
   ]
  },
  {
   "cell_type": "markdown",
   "metadata": {},
   "source": [
    "### Write a Python function that takes two lists and returns True if they have at least one common member."
   ]
  },
  {
   "cell_type": "code",
   "execution_count": 69,
   "metadata": {
    "collapsed": true
   },
   "outputs": [
    {
     "data": {
      "text/plain": [
       "True"
      ]
     },
     "execution_count": 69,
     "metadata": {},
     "output_type": "execute_result"
    }
   ],
   "source": [
    "def common(n , m):\n",
    "    result = False\n",
    "    for i in n:\n",
    "        for x in m:\n",
    "            if i == x:\n",
    "                result = True\n",
    "    return result\n",
    "     \n",
    "l = [2,3,4,5,6]\n",
    "k = [7,8,9,10,6]\n",
    "common(l , k)\n",
    "\n",
    "    "
   ]
  },
  {
   "cell_type": "markdown",
   "metadata": {},
   "source": [
    "### Write a Python function to calculate the factorial of a number (a non-negative integer). The function accepts the number from the user"
   ]
  },
  {
   "cell_type": "code",
   "execution_count": 81,
   "metadata": {
    "collapsed": true
   },
   "outputs": [
    {
     "data": {
      "text/plain": [
       "6"
      ]
     },
     "execution_count": 81,
     "metadata": {},
     "output_type": "execute_result"
    }
   ],
   "source": [
    "def factorial(n):\n",
    "    if n < 0:\n",
    "        print(\"Sorry, factorial does not exist for negative numbers\")\n",
    "    elif n == 1 or n == 0:\n",
    "        return 1\n",
    "    else:\n",
    "        return n * factorial(n-1)\n",
    "\n",
    "    \n",
    "\n",
    "number = int(input(\"please enter the number\"))\n",
    "factorial(number)\n",
    "\n"
   ]
  },
  {
   "cell_type": "markdown",
   "metadata": {},
   "source": [
    "### Write a Python function to check whether a number is in a given range.\n",
    "\n",
    "### The range is from 3 to 11\n"
   ]
  },
  {
   "cell_type": "code",
   "execution_count": 84,
   "metadata": {
    "collapsed": true
   },
   "outputs": [
    {
     "name": "stdout",
     "output_type": "stream",
     "text": [
      "in the range\n"
     ]
    }
   ],
   "source": [
    "def in_range(x, range_):\n",
    "    if x in range_:\n",
    "        print(\"in the range\")\n",
    "    else:\n",
    "        print(\"out of the range\")\n",
    "\n",
    "in_range(10 , range(3,11))"
   ]
  },
  {
   "cell_type": "markdown",
   "metadata": {},
   "source": [
    "### Write a  program to create the multiplication table (from 1 to 10) of a number."
   ]
  },
  {
   "cell_type": "code",
   "execution_count": 104,
   "metadata": {
    "collapsed": true
   },
   "outputs": [
    {
     "name": "stdout",
     "output_type": "stream",
     "text": [
      "10 * 5 = 50\n",
      "out of the range\n"
     ]
    }
   ],
   "source": [
    "def multiplication(i, x):\n",
    "    for i in range(1,11):\n",
    "        for x in range(1, 11):\n",
    "            print(f\"{i} * {x} = {i * x}\")\n",
    "\n",
    "# def muli_10(i , x):\n",
    "#     if i  in range(1, 11) and x in range(1, 11):\n",
    "#         print(f\"{i} * {x} = {i * x}\")\n",
    "#     else:\n",
    "#         print(\"out of the range\")\n",
    "\n",
    "# muli_10(10, 5)\n",
    "# muli_10(11, 5)\n",
    "\n",
    "    \n",
    "\n",
    "\n",
    "#multiplication()"
   ]
  },
  {
   "cell_type": "markdown",
   "metadata": {},
   "source": [
    "#### LESSER OF TWO EVENS: Write a function that returns the lesser of two given numbers *if* both numbers are even, but returns the greater if one or both numbers are odd\n",
    "    lesser_of_two_evens(2,4) --> 2\n",
    "    lesser_of_two_evens(2,5) --> 5"
   ]
  },
  {
   "cell_type": "code",
   "execution_count": 106,
   "metadata": {},
   "outputs": [
    {
     "data": {
      "text/plain": [
       "5"
      ]
     },
     "execution_count": 106,
     "metadata": {},
     "output_type": "execute_result"
    }
   ],
   "source": [
    "def lesser_of_two_events(x, y):\n",
    "    if x and y % 2 == 0:\n",
    "        return min(x,y)\n",
    "    else:\n",
    "        return max(x, y)\n",
    "lesser_of_two_events(2, 5)         "
   ]
  },
  {
   "cell_type": "markdown",
   "metadata": {},
   "source": [
    "#### ANIMAL CRACKERS: Write a function takes a two-word string and returns True if both words begin with same letter\n",
    "    animal_crackers('Levelheaded Llama') --> True\n",
    "    animal_crackers('Crazy Kangaroo') --> False"
   ]
  },
  {
   "cell_type": "code",
   "execution_count": 12,
   "metadata": {},
   "outputs": [
    {
     "name": "stdout",
     "output_type": "stream",
     "text": [
      "True\n"
     ]
    }
   ],
   "source": [
    "def animal_crackers(string):\n",
    "    s1 , s2 = string.split()\n",
    "    if s1[0] == s2[0]:\n",
    "        print(True)\n",
    "    else:\n",
    "        print(False)\n",
    "\n",
    "animal_crackers(\"Levelheaded Llama\")"
   ]
  },
  {
   "cell_type": "markdown",
   "metadata": {},
   "source": [
    "#### MAKES TWENTY: Given two integers, return True if the sum of the integers is 20 *or* if one of the integers is 20. If not, return False\n",
    "\n",
    "    makes_twenty(20,10) --> True\n",
    "    makes_twenty(12,8) --> True\n",
    "    makes_twenty(2,3) --> False"
   ]
  },
  {
   "cell_type": "code",
   "execution_count": 19,
   "metadata": {},
   "outputs": [
    {
     "name": "stdout",
     "output_type": "stream",
     "text": [
      "False\n"
     ]
    }
   ],
   "source": [
    "def make_twenty(x ,y):\n",
    "    x = int(x)\n",
    "    y = int(y)\n",
    "    if x + y == 20 or x == 20 or y == 20:\n",
    "        print(True)\n",
    "    else:\n",
    "        print(False)    \n",
    "make_twenty(2,10)"
   ]
  },
  {
   "cell_type": "markdown",
   "metadata": {},
   "source": [
    "#### ALMOST THERE: Given an integer n, return True if n is within 10 of either 100 or 200\n",
    "\n",
    "    almost_there(90) --> True\n",
    "    almost_there(104) --> True\n",
    "    almost_there(150) --> False\n",
    "    almost_there(209) --> True\n",
    "    \n",
    "NOTE: `abs(num)` returns the absolute value of a number"
   ]
  },
  {
   "cell_type": "code",
   "execution_count": 22,
   "metadata": {},
   "outputs": [
    {
     "data": {
      "text/plain": [
       "True"
      ]
     },
     "execution_count": 22,
     "metadata": {},
     "output_type": "execute_result"
    }
   ],
   "source": [
    "def almost_there(n):\n",
    "    return abs(100 - n) <= 10 or abs(200 - n) <= 10\n",
    "\n",
    "almost_there(90)\n",
    "almost_there(104)\n",
    "almost_there(150)\n",
    "almost_there(209)"
   ]
  },
  {
   "cell_type": "markdown",
   "metadata": {},
   "source": [
    "#### BLACKJACK: Given three integers between 1 and 11, if their sum is less than or equal to 21, return their sum. If their sum exceeds 21 *and* there's an eleven, reduce the total sum by 10. Finally, if the sum  exceeds 21, return 'BUST'\n",
    "    blackjack(5,6,7) --> 18\n",
    "    blackjack(9,9,9) --> 'BUST'\n",
    "    blackjack(9,9,11) --> 19"
   ]
  },
  {
   "cell_type": "code",
   "execution_count": 21,
   "metadata": {},
   "outputs": [
    {
     "data": {
      "text/plain": [
       "'BUST'"
      ]
     },
     "execution_count": 21,
     "metadata": {},
     "output_type": "execute_result"
    }
   ],
   "source": [
    "def blackjack(a, b, c):\n",
    "    sum = a + b + c\n",
    "    if sum <= 21:\n",
    "        return sum\n",
    "    elif sum > 21:\n",
    "        if a == 11 or b == 11 or c == 11:\n",
    "            return sum-10\n",
    "        else:\n",
    "            return 'BUST'\n",
    "\n",
    "blackjack(9,9,9)"
   ]
  }
 ],
 "metadata": {
  "kernelspec": {
   "display_name": "Python 3.10.3 64-bit",
   "language": "python",
   "name": "python3"
  },
  "language_info": {
   "codemirror_mode": {
    "name": "ipython",
    "version": 3
   },
   "file_extension": ".py",
   "mimetype": "text/x-python",
   "name": "python",
   "nbconvert_exporter": "python",
   "pygments_lexer": "ipython3",
   "version": "3.10.3"
  },
  "vscode": {
   "interpreter": {
    "hash": "5eaad8f8cc0dfbd6c6fdba910c80578188f6072d8d0b6be482430d70d05cfcf2"
   }
  }
 },
 "nbformat": 4,
 "nbformat_minor": 2
}
